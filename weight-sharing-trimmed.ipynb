{
 "cells": [
  {
   "cell_type": "markdown",
   "metadata": {},
   "source": [
    "There are several suites that can be used:\n",
    "* Gym\n",
    "* Deepmind control\n",
    "* for more check the github repo"
   ]
  },
  {
   "cell_type": "code",
   "execution_count": 1,
   "metadata": {
    "ExecuteTime": {
     "end_time": "2020-12-11T08:28:51.463325Z",
     "start_time": "2020-12-11T08:28:50.069748Z"
    }
   },
   "outputs": [
    {
     "name": "stdout",
     "output_type": "stream",
     "text": [
      "\u001b[1m\u001b[37mmercury            \u001b[m  Fri Dec 11 01:28:51 2020  \u001b[1m\u001b[30m450.66\u001b[m\r\n",
      "\u001b[36m[0]\u001b[m \u001b[34mTITAN V         \u001b[m |\u001b[31m 45'C\u001b[m, \u001b[32m  0 %\u001b[m | \u001b[36m\u001b[1m\u001b[33m    6\u001b[m / \u001b[33m12066\u001b[m MB | \u001b[1m\u001b[30mroot\u001b[m(\u001b[33m4M\u001b[m)\r\n"
     ]
    }
   ],
   "source": [
    "!gpustat"
   ]
  },
  {
   "cell_type": "code",
   "execution_count": 1,
   "metadata": {
    "ExecuteTime": {
     "end_time": "2020-12-11T08:47:45.383159Z",
     "start_time": "2020-12-11T08:47:39.587337Z"
    },
    "colab": {},
    "colab_type": "code",
    "execution": {
     "iopub.execute_input": "2020-10-28T11:11:37.775594Z",
     "iopub.status.busy": "2020-10-28T11:11:37.774836Z",
     "iopub.status.idle": "2020-10-28T11:11:44.910406Z",
     "shell.execute_reply": "2020-10-28T11:11:44.910901Z"
    },
    "id": "sMitx5qSgJk1"
   },
   "outputs": [],
   "source": [
    "from __future__ import absolute_import, division, print_function\n",
    "\n",
    "import base64\n",
    "import imageio\n",
    "import IPython\n",
    "import matplotlib\n",
    "import matplotlib.pyplot as plt\n",
    "import numpy as np\n",
    "import PIL.Image\n",
    "import pyvirtualdisplay\n",
    "\n",
    "import tensorflow as tf\n",
    "\n",
    "from tf_agents.agents.dqn import dqn_agent\n",
    "from tf_agents.drivers import dynamic_step_driver\n",
    "from tf_agents.environments import suite_gym\n",
    "from tf_agents.environments import tf_py_environment\n",
    "from tf_agents.eval import metric_utils\n",
    "from tf_agents.metrics import tf_metrics\n",
    "from tf_agents.networks import q_network\n",
    "from tf_agents.policies import random_tf_policy\n",
    "from tf_agents.replay_buffers import tf_uniform_replay_buffer\n",
    "from tf_agents.trajectories import trajectory\n",
    "from tf_agents.utils import common\n",
    "import os\n",
    "\n",
    "from train_utils import *\n",
    "# os.environ['CUDA_VISIBLE_DEVICES'] = '-1'"
   ]
  },
  {
   "cell_type": "code",
   "execution_count": 2,
   "metadata": {
    "ExecuteTime": {
     "end_time": "2020-12-11T08:47:45.486799Z",
     "start_time": "2020-12-11T08:47:45.385557Z"
    },
    "colab": {},
    "colab_type": "code",
    "execution": {
     "iopub.execute_input": "2020-10-28T11:11:44.921391Z",
     "iopub.status.busy": "2020-10-28T11:11:44.915354Z",
     "iopub.status.idle": "2020-10-28T11:11:44.990972Z",
     "shell.execute_reply": "2020-10-28T11:11:44.990232Z"
    },
    "id": "J6HsdS5GbSjd"
   },
   "outputs": [],
   "source": [
    "tf.compat.v1.enable_v2_behavior()\n",
    "\n",
    "# Set up a virtual display for rendering OpenAI gym environments.\n",
    "display = pyvirtualdisplay.Display(visible=0, size=(1400, 900)).start()"
   ]
  },
  {
   "cell_type": "markdown",
   "metadata": {
    "colab_type": "text",
    "id": "LmC0NDhdLIKY"
   },
   "source": [
    "## Hyperparameters"
   ]
  },
  {
   "cell_type": "code",
   "execution_count": 3,
   "metadata": {
    "ExecuteTime": {
     "end_time": "2020-12-11T08:47:45.494601Z",
     "start_time": "2020-12-11T08:47:45.490550Z"
    },
    "colab": {},
    "colab_type": "code",
    "execution": {
     "iopub.execute_input": "2020-10-28T11:11:45.006567Z",
     "iopub.status.busy": "2020-10-28T11:11:45.005744Z",
     "iopub.status.idle": "2020-10-28T11:11:45.008451Z",
     "shell.execute_reply": "2020-10-28T11:11:45.007894Z"
    },
    "id": "HC1kNrOsLSIZ"
   },
   "outputs": [],
   "source": [
    "num_iterations = 20000 # @param {type:\"integer\"}\n",
    "\n",
    "initial_collect_steps = 100  # @param {type:\"integer\"} \n",
    "collect_steps_per_iteration = 1  # @param {type:\"integer\"}\n",
    "replay_buffer_max_length = 100000  # @param {type:\"integer\"}\n",
    "\n",
    "batch_size = 64  # @param {type:\"integer\"}\n",
    "learning_rate = 1e-3  # @param {type:\"number\"}\n",
    "log_interval = 200  # @param {type:\"integer\"}\n",
    "\n",
    "num_eval_episodes = 10  # @param {type:\"integer\"}\n",
    "eval_interval = 1000  # @param {type:\"integer\"}"
   ]
  },
  {
   "cell_type": "markdown",
   "metadata": {
    "colab_type": "text",
    "id": "VMsJC3DEgI0x"
   },
   "source": [
    "## Environment & Agent"
   ]
  },
  {
   "cell_type": "code",
   "execution_count": 4,
   "metadata": {
    "ExecuteTime": {
     "end_time": "2020-12-11T08:47:45.521495Z",
     "start_time": "2020-12-11T08:47:45.497347Z"
    },
    "colab": {},
    "colab_type": "code",
    "execution": {
     "iopub.execute_input": "2020-10-28T11:11:45.013323Z",
     "iopub.status.busy": "2020-10-28T11:11:45.012649Z",
     "iopub.status.idle": "2020-10-28T11:11:45.022597Z",
     "shell.execute_reply": "2020-10-28T11:11:45.021991Z"
    },
    "id": "pYEz-S9gEv2-"
   },
   "outputs": [
    {
     "name": "stderr",
     "output_type": "stream",
     "text": [
      "/s/chopin/a/grad/atercan/researchvenv/lib64/python3.8/site-packages/gym/logger.py:30: UserWarning: \u001b[33mWARN: Box bound precision lowered by casting to float32\u001b[0m\n",
      "  warnings.warn(colorize('%s: %s'%('WARN', msg % args), 'yellow'))\n"
     ]
    }
   ],
   "source": [
    "env_name = 'CartPole-v0'\n",
    "env = suite_gym.load(env_name)"
   ]
  },
  {
   "cell_type": "code",
   "execution_count": 5,
   "metadata": {
    "ExecuteTime": {
     "end_time": "2020-12-11T08:47:45.549928Z",
     "start_time": "2020-12-11T08:47:45.523542Z"
    },
    "colab": {},
    "colab_type": "code",
    "execution": {
     "iopub.execute_input": "2020-10-28T11:11:45.611558Z",
     "iopub.status.busy": "2020-10-28T11:11:45.610870Z",
     "iopub.status.idle": "2020-10-28T11:11:45.619046Z",
     "shell.execute_reply": "2020-10-28T11:11:45.618453Z"
    },
    "id": "Xp-Y4mD6eDhF"
   },
   "outputs": [],
   "source": [
    "train_env = tf_py_environment.TFPyEnvironment(suite_gym.load(env_name))\n",
    "eval_env = tf_py_environment.TFPyEnvironment(suite_gym.load(env_name))"
   ]
  },
  {
   "cell_type": "code",
   "execution_count": 56,
   "metadata": {
    "ExecuteTime": {
     "end_time": "2020-12-11T10:20:55.103633Z",
     "start_time": "2020-12-11T10:20:55.094683Z"
    },
    "colab": {},
    "colab_type": "code",
    "execution": {
     "iopub.execute_input": "2020-10-28T11:11:45.624152Z",
     "iopub.status.busy": "2020-10-28T11:11:45.623466Z",
     "iopub.status.idle": "2020-10-28T11:11:45.649732Z",
     "shell.execute_reply": "2020-10-28T11:11:45.649056Z"
    },
    "id": "TgkdEPg_muzV"
   },
   "outputs": [],
   "source": [
    "fc_layer_params = (40, 20)\n",
    "\n",
    "q_net = q_network.QNetwork(\n",
    "    train_env.observation_spec(),\n",
    "    train_env.action_spec(),\n",
    "    fc_layer_params=fc_layer_params)"
   ]
  },
  {
   "cell_type": "code",
   "execution_count": 57,
   "metadata": {
    "ExecuteTime": {
     "end_time": "2020-12-11T10:20:56.023416Z",
     "start_time": "2020-12-11T10:20:55.981934Z"
    },
    "colab": {},
    "colab_type": "code",
    "execution": {
     "iopub.execute_input": "2020-10-28T11:11:47.064789Z",
     "iopub.status.busy": "2020-10-28T11:11:47.063716Z",
     "iopub.status.idle": "2020-10-28T11:11:47.671755Z",
     "shell.execute_reply": "2020-10-28T11:11:47.671115Z"
    },
    "id": "jbY4yrjTEyc9"
   },
   "outputs": [],
   "source": [
    "optimizer = tf.compat.v1.train.AdamOptimizer(learning_rate=learning_rate)\n",
    "\n",
    "train_step_counter = tf.Variable(0)\n",
    "\n",
    "agent = dqn_agent.DqnAgent(\n",
    "    train_env.time_step_spec(),\n",
    "    train_env.action_spec(),\n",
    "    q_network=q_net,\n",
    "    optimizer=optimizer,\n",
    "    td_errors_loss_fn=common.element_wise_squared_loss,\n",
    "    train_step_counter=train_step_counter)\n",
    "\n",
    "agent.initialize()"
   ]
  },
  {
   "cell_type": "code",
   "execution_count": 8,
   "metadata": {
    "ExecuteTime": {
     "end_time": "2020-12-11T08:47:57.179285Z",
     "start_time": "2020-12-11T08:47:57.176322Z"
    },
    "colab": {},
    "colab_type": "code",
    "execution": {
     "iopub.execute_input": "2020-10-28T11:11:47.683791Z",
     "iopub.status.busy": "2020-10-28T11:11:47.682800Z",
     "iopub.status.idle": "2020-10-28T11:11:47.685543Z",
     "shell.execute_reply": "2020-10-28T11:11:47.685985Z"
    },
    "id": "HE37-UCIrE69"
   },
   "outputs": [],
   "source": [
    "eval_policy = agent.policy\n",
    "collect_policy = agent.collect_policy\n",
    "\n",
    "random_policy = random_tf_policy.RandomTFPolicy(train_env.time_step_spec(),\n",
    "                                                train_env.action_spec())"
   ]
  },
  {
   "cell_type": "markdown",
   "metadata": {
    "colab_type": "text",
    "id": "NLva6g2jdWgr"
   },
   "source": [
    "## Replay Buffer\n"
   ]
  },
  {
   "cell_type": "code",
   "execution_count": 9,
   "metadata": {
    "ExecuteTime": {
     "end_time": "2020-12-11T08:47:59.010040Z",
     "start_time": "2020-12-11T08:47:57.993715Z"
    },
    "colab": {},
    "colab_type": "code",
    "execution": {
     "iopub.execute_input": "2020-10-28T11:11:48.237428Z",
     "iopub.status.busy": "2020-10-28T11:11:48.236723Z",
     "iopub.status.idle": "2020-10-28T11:11:48.250980Z",
     "shell.execute_reply": "2020-10-28T11:11:48.250325Z"
    },
    "id": "vX2zGUWJGWAl"
   },
   "outputs": [
    {
     "name": "stdout",
     "output_type": "stream",
     "text": [
      "WARNING:tensorflow:From /s/chopin/a/grad/atercan/researchvenv/lib64/python3.8/site-packages/tensorflow/python/autograph/operators/control_flow.py:1004: ReplayBuffer.get_next (from tf_agents.replay_buffers.replay_buffer) is deprecated and will be removed in a future version.\n",
      "Instructions for updating:\n",
      "Use `as_dataset(..., single_deterministic_pass=False) instead.\n"
     ]
    }
   ],
   "source": [
    "replay_buffer = tf_uniform_replay_buffer.TFUniformReplayBuffer(\n",
    "    data_spec=agent.collect_data_spec,\n",
    "    batch_size=train_env.batch_size,\n",
    "    max_length=replay_buffer_max_length)\n",
    "\n",
    "collect_data(train_env, random_policy, replay_buffer, initial_collect_steps)\n",
    "\n",
    "# Dataset generates trajectories with shape [Bx2x...]\n",
    "dataset = replay_buffer.as_dataset(\n",
    "    num_parallel_calls=3, \n",
    "    sample_batch_size=batch_size, \n",
    "    num_steps=2).prefetch(3)\n",
    "\n",
    "iterator = iter(dataset)\n"
   ]
  },
  {
   "cell_type": "markdown",
   "metadata": {
    "colab_type": "text",
    "id": "hBc9lj9VWWtZ"
   },
   "source": [
    "## Training the agent\n"
   ]
  },
  {
   "cell_type": "code",
   "execution_count": 10,
   "metadata": {
    "ExecuteTime": {
     "end_time": "2020-12-11T08:53:13.203875Z",
     "start_time": "2020-12-11T08:47:59.294316Z"
    },
    "colab": {},
    "colab_type": "code",
    "execution": {
     "iopub.execute_input": "2020-10-28T11:11:49.603725Z",
     "iopub.status.busy": "2020-10-28T11:11:49.602857Z",
     "iopub.status.idle": "2020-10-28T11:17:44.759148Z",
     "shell.execute_reply": "2020-10-28T11:17:44.758496Z"
    },
    "id": "0pTbJ3PeyF-u"
   },
   "outputs": [
    {
     "name": "stdout",
     "output_type": "stream",
     "text": [
      "WARNING:tensorflow:From /s/chopin/a/grad/atercan/researchvenv/lib64/python3.8/site-packages/tensorflow/python/util/dispatch.py:201: calling foldr_v2 (from tensorflow.python.ops.functional_ops) with back_prop=False is deprecated and will be removed in a future version.\n",
      "Instructions for updating:\n",
      "back_prop=False is deprecated. Consider using tf.stop_gradient instead.\n",
      "Instead of:\n",
      "results = tf.foldr(fn, elems, back_prop=False)\n",
      "Use:\n",
      "results = tf.nest.map_structure(tf.stop_gradient, tf.foldr(fn, elems))\n",
      "step = 200: loss = 12.647153854370117\n",
      "step = 400: loss = 26.14370346069336\n",
      "step = 600: loss = 24.793594360351562\n",
      "step = 800: loss = 11.693002700805664\n",
      "step = 1000: loss = 20.381528854370117\n",
      "step = 1000: Average Return = 33.099998474121094\n",
      "step = 1200: loss = 92.40422821044922\n",
      "step = 1400: loss = 12.707183837890625\n",
      "step = 1600: loss = 68.1843032836914\n",
      "step = 1800: loss = 8.57526969909668\n",
      "step = 2000: loss = 112.09485626220703\n",
      "step = 2000: Average Return = 59.0\n",
      "step = 2200: loss = 10.101286888122559\n",
      "step = 2400: loss = 14.861035346984863\n",
      "step = 2600: loss = 28.763675689697266\n",
      "step = 2800: loss = 12.836272239685059\n",
      "step = 3000: loss = 11.262517929077148\n",
      "step = 3000: Average Return = 117.19999694824219\n",
      "step = 3200: loss = 63.52561569213867\n",
      "step = 3400: loss = 18.326936721801758\n",
      "step = 3600: loss = 79.19798278808594\n",
      "step = 3800: loss = 65.46622467041016\n",
      "step = 4000: loss = 24.084590911865234\n",
      "step = 4000: Average Return = 79.9000015258789\n",
      "step = 4200: loss = 97.3717041015625\n",
      "step = 4400: loss = 19.904743194580078\n",
      "step = 4600: loss = 11.188701629638672\n",
      "step = 4800: loss = 26.599441528320312\n",
      "step = 5000: loss = 9.200736999511719\n",
      "step = 5000: Average Return = 59.400001525878906\n",
      "step = 5200: loss = 13.349531173706055\n",
      "step = 5400: loss = 29.561481475830078\n",
      "step = 5600: loss = 34.83962631225586\n",
      "step = 5800: loss = 11.199896812438965\n",
      "step = 6000: loss = 13.079870223999023\n",
      "step = 6000: Average Return = 87.19999694824219\n",
      "step = 6200: loss = 20.356624603271484\n",
      "step = 6400: loss = 23.579437255859375\n",
      "step = 6600: loss = 30.835113525390625\n",
      "step = 6800: loss = 57.969120025634766\n",
      "step = 7000: loss = 63.12217712402344\n",
      "step = 7000: Average Return = 200.0\n",
      "step = 7200: loss = 64.84978485107422\n",
      "step = 7400: loss = 282.49151611328125\n",
      "step = 7600: loss = 134.86376953125\n",
      "step = 7800: loss = 287.62225341796875\n",
      "step = 8000: loss = 1564.0703125\n",
      "step = 8000: Average Return = 200.0\n",
      "step = 8200: loss = 636.48779296875\n",
      "step = 8400: loss = 1906.1048583984375\n",
      "step = 8600: loss = 2425.066162109375\n",
      "step = 8800: loss = 2852.751953125\n",
      "step = 9000: loss = 3067.482666015625\n",
      "step = 9000: Average Return = 200.0\n",
      "step = 9200: loss = 42251.328125\n",
      "step = 9400: loss = 57368.34375\n",
      "step = 9600: loss = 9257.390625\n",
      "step = 9800: loss = 63233.8671875\n",
      "step = 10000: loss = 7902.4453125\n",
      "step = 10000: Average Return = 200.0\n",
      "step = 10200: loss = 15729.67578125\n",
      "step = 10400: loss = 12932.451171875\n",
      "step = 10600: loss = 19312.423828125\n",
      "step = 10800: loss = 20097.525390625\n",
      "step = 11000: loss = 30075.73828125\n",
      "step = 11000: Average Return = 200.0\n",
      "step = 11200: loss = 26159.9609375\n",
      "step = 11400: loss = 50892.4609375\n",
      "step = 11600: loss = 46335.3984375\n",
      "step = 11800: loss = 38792.1171875\n",
      "step = 12000: loss = 222557.765625\n",
      "step = 12000: Average Return = 200.0\n",
      "step = 12200: loss = 62892.953125\n",
      "step = 12400: loss = 41539.46875\n",
      "step = 12600: loss = 32793.58984375\n",
      "step = 12800: loss = 79232.765625\n",
      "step = 13000: loss = 63904.234375\n",
      "step = 13000: Average Return = 200.0\n",
      "step = 13200: loss = 84475.21875\n",
      "step = 13400: loss = 118124.078125\n",
      "step = 13600: loss = 97934.53125\n",
      "step = 13800: loss = 104366.2578125\n",
      "step = 14000: loss = 209207.875\n",
      "step = 14000: Average Return = 200.0\n",
      "step = 14200: loss = 218121.96875\n",
      "step = 14400: loss = 192622.53125\n",
      "step = 14600: loss = 288366.65625\n",
      "step = 14800: loss = 208871.375\n",
      "step = 15000: loss = 273253.625\n",
      "step = 15000: Average Return = 200.0\n",
      "step = 15200: loss = 308057.96875\n",
      "step = 15400: loss = 1246205.125\n",
      "step = 15600: loss = 231626.921875\n",
      "step = 15800: loss = 327887.46875\n",
      "step = 16000: loss = 474166.3125\n",
      "step = 16000: Average Return = 200.0\n",
      "step = 16200: loss = 433397.625\n",
      "step = 16400: loss = 631856.375\n",
      "step = 16600: loss = 600635.5\n",
      "step = 16800: loss = 554771.875\n",
      "step = 17000: loss = 356936.78125\n",
      "step = 17000: Average Return = 200.0\n",
      "step = 17200: loss = 672621.1875\n",
      "step = 17400: loss = 542232.0\n",
      "step = 17600: loss = 899306.5\n",
      "step = 17800: loss = 11394124.0\n",
      "step = 18000: loss = 530402.875\n",
      "step = 18000: Average Return = 200.0\n",
      "step = 18200: loss = 997455.375\n",
      "step = 18400: loss = 961280.8125\n",
      "step = 18600: loss = 973404.1875\n",
      "step = 18800: loss = 803657.375\n",
      "step = 19000: loss = 799981.5625\n",
      "step = 19000: Average Return = 200.0\n",
      "step = 19200: loss = 1167839.75\n",
      "step = 19400: loss = 585532.0625\n",
      "step = 19600: loss = 1120699.875\n",
      "step = 19800: loss = 645892.25\n",
      "step = 20000: loss = 1138304.0\n",
      "step = 20000: Average Return = 200.0\n"
     ]
    }
   ],
   "source": [
    "#@test {\"skip\": true}\n",
    "try:\n",
    "  %%time\n",
    "except:\n",
    "  pass\n",
    "\n",
    "# (Optional) Optimize by wrapping some of the code in a graph using TF function.\n",
    "agent.train = common.function(agent.train)\n",
    "\n",
    "# Reset the train step\n",
    "agent.train_step_counter.assign(0)\n",
    "\n",
    "# Evaluate the agent's policy once before training.\n",
    "avg_return = compute_avg_return(eval_env, agent.policy, num_eval_episodes)\n",
    "returns = [avg_return]\n",
    "\n",
    "for _ in range(num_iterations):\n",
    "\n",
    "  # Collect a few steps using collect_policy and save to the replay buffer.\n",
    "  collect_data(train_env, agent.collect_policy, replay_buffer, collect_steps_per_iteration)\n",
    "\n",
    "  # Sample a batch of data from the buffer and update the agent's network.\n",
    "  experience, unused_info = next(iterator)\n",
    "  train_loss = agent.train(experience).loss\n",
    "\n",
    "  step = agent.train_step_counter.numpy()\n",
    "\n",
    "  if step % log_interval == 0:\n",
    "    print('step = {0}: loss = {1}'.format(step, train_loss))\n",
    "\n",
    "  if step % eval_interval == 0:\n",
    "    avg_return = compute_avg_return(eval_env, agent.policy, num_eval_episodes)\n",
    "    print('step = {0}: Average Return = {1}'.format(step, avg_return))\n",
    "    returns.append(avg_return)"
   ]
  },
  {
   "cell_type": "markdown",
   "metadata": {
    "colab_type": "text",
    "id": "68jNcA_TiJDq"
   },
   "source": [
    "## Visualization\n"
   ]
  },
  {
   "cell_type": "code",
   "execution_count": 12,
   "metadata": {
    "ExecuteTime": {
     "end_time": "2020-12-11T09:47:33.729803Z",
     "start_time": "2020-12-11T09:47:33.565576Z"
    },
    "colab": {},
    "colab_type": "code",
    "execution": {
     "iopub.execute_input": "2020-10-28T11:17:44.779366Z",
     "iopub.status.busy": "2020-10-28T11:17:44.778601Z",
     "iopub.status.idle": "2020-10-28T11:17:44.905041Z",
     "shell.execute_reply": "2020-10-28T11:17:44.905507Z"
    },
    "id": "NxtL1mbOYCVO"
   },
   "outputs": [
    {
     "data": {
      "text/plain": [
       "(-0.34000020027160716, 250.0)"
      ]
     },
     "execution_count": 12,
     "metadata": {},
     "output_type": "execute_result"
    },
    {
     "data": {
      "image/png": "[encoded data removed]",
      "text/plain": [
       "<Figure size 432x288 with 1 Axes>"
      ]
     },
     "metadata": {
      "needs_background": "light"
     },
     "output_type": "display_data"
    }
   ],
   "source": [
    "#@test {\"skip\": true}\n",
    "\n",
    "iterations = range(0, num_iterations + 1, eval_interval)\n",
    "plt.plot(iterations, returns)\n",
    "plt.ylabel('Average Return')\n",
    "plt.xlabel('Iterations')\n",
    "plt.ylim(top=250)"
   ]
  },
  {
   "cell_type": "markdown",
   "metadata": {},
   "source": [
    "# Optimization"
   ]
  },
  {
   "cell_type": "code",
   "execution_count": 13,
   "metadata": {
    "ExecuteTime": {
     "end_time": "2020-12-11T09:47:39.553069Z",
     "start_time": "2020-12-11T09:47:39.462952Z"
    },
    "scrolled": true
   },
   "outputs": [],
   "source": [
    "# from tensorflow import keras\n",
    "\n",
    "# from tensorflow.keras.preprocessing import image_dataset_from_directory\n",
    "\n",
    "import tempfile\n",
    "from tf_agents.utils import common\n",
    "import copy\n",
    "from tensorflow import keras\n",
    "from clustering import cluster\n",
    "import distillation\n",
    "import compression_utils\n",
    "import tensorflow_model_optimization as tfmot\n"
   ]
  },
  {
   "cell_type": "code",
   "execution_count": 14,
   "metadata": {
    "ExecuteTime": {
     "end_time": "2020-12-11T09:47:52.944884Z",
     "start_time": "2020-12-11T09:47:40.696457Z"
    }
   },
   "outputs": [
    {
     "name": "stdout",
     "output_type": "stream",
     "text": [
      "Baseline test performance: 200.0\n",
      "Model: \"QNetwork\"\n",
      "_________________________________________________________________\n",
      "Layer (type)                 Output Shape              Param #   \n",
      "=================================================================\n",
      "EncodingNetwork (EncodingNet multiple                  1020      \n",
      "_________________________________________________________________\n",
      "dense_2 (Dense)              multiple                  42        \n",
      "=================================================================\n",
      "Total params: 1,062\n",
      "Trainable params: 1,062\n",
      "Non-trainable params: 0\n",
      "_________________________________________________________________\n"
     ]
    }
   ],
   "source": [
    "baseline_model_accuracy = compute_avg_return(eval_env,agent.policy,num_episodes=20)\n",
    "print('Baseline test performance:', baseline_model_accuracy)\n",
    "agent._q_network.summary()"
   ]
  },
  {
   "cell_type": "code",
   "execution_count": 15,
   "metadata": {
    "ExecuteTime": {
     "end_time": "2020-12-11T09:48:00.160401Z",
     "start_time": "2020-12-11T09:48:00.154745Z"
    }
   },
   "outputs": [],
   "source": [
    "original_weights = copy.deepcopy(agent._q_network.get_weights())"
   ]
  },
  {
   "cell_type": "code",
   "execution_count": 16,
   "metadata": {
    "ExecuteTime": {
     "end_time": "2020-12-11T09:48:01.917700Z",
     "start_time": "2020-12-11T09:48:01.911284Z"
    }
   },
   "outputs": [],
   "source": [
    "# np.save(\"working_qagent_weights\", original_weights, allow_pickle=True)\n",
    "original_weights = np.load(\"working_qagent_weights.npy\", allow_pickle=True)"
   ]
  },
  {
   "cell_type": "markdown",
   "metadata": {},
   "source": [
    "## Clustering via KL Distillation"
   ]
  },
  {
   "cell_type": "code",
   "execution_count": 17,
   "metadata": {
    "ExecuteTime": {
     "end_time": "2020-12-11T09:48:37.010974Z",
     "start_time": "2020-12-11T09:48:36.965843Z"
    }
   },
   "outputs": [
    {
     "name": "stdout",
     "output_type": "stream",
     "text": [
      "Model: \"sequential\"\n",
      "_________________________________________________________________\n",
      "Layer (type)                 Output Shape              Param #   \n",
      "=================================================================\n",
      "flatten (Flatten)            (1, 4)                    0         \n",
      "_________________________________________________________________\n",
      "dense (Dense)                (1, 40)                   200       \n",
      "_________________________________________________________________\n",
      "dense_1 (Dense)              (1, 20)                   820       \n",
      "_________________________________________________________________\n",
      "dense_2 (Dense)              (1, 2)                    42        \n",
      "=================================================================\n",
      "Total params: 1,062\n",
      "Trainable params: 1,062\n",
      "Non-trainable params: 0\n",
      "_________________________________________________________________\n"
     ]
    },
    {
     "data": {
      "text/plain": [
       "6081"
      ]
     },
     "execution_count": 17,
     "metadata": {},
     "output_type": "execute_result"
    }
   ],
   "source": [
    "layers = agent._q_network.layers[0].layers + agent._q_network.layers[1:]\n",
    "model = keras.Sequential(layers)\n",
    "model.build(train_env.reset().observation.shape)\n",
    "model.set_weights(original_weights)\n",
    "model.summary()\n",
    "compression_utils.get_compressed_size(model)"
   ]
  },
  {
   "cell_type": "code",
   "execution_count": 18,
   "metadata": {
    "ExecuteTime": {
     "end_time": "2020-12-11T09:48:43.641134Z",
     "start_time": "2020-12-11T09:48:43.606318Z"
    }
   },
   "outputs": [],
   "source": [
    "copied_model = keras.models.clone_model(model)\n",
    "copied_model.set_weights(model.get_weights())\n",
    "student = copied_model"
   ]
  },
  {
   "cell_type": "code",
   "execution_count": 19,
   "metadata": {
    "ExecuteTime": {
     "end_time": "2020-12-11T09:49:02.141505Z",
     "start_time": "2020-12-11T09:49:01.991978Z"
    }
   },
   "outputs": [
    {
     "name": "stdout",
     "output_type": "stream",
     "text": [
      "Model: \"sequential\"\n",
      "_________________________________________________________________\n",
      "Layer (type)                 Output Shape              Param #   \n",
      "=================================================================\n",
      "cluster_flatten (ClusterWeig (1, 4)                    0         \n",
      "_________________________________________________________________\n",
      "cluster_dense (ClusterWeight (1, 40)                   202       \n",
      "_________________________________________________________________\n",
      "cluster_dense_1 (ClusterWeig (1, 20)                   822       \n",
      "_________________________________________________________________\n",
      "cluster_dense_2 (ClusterWeig (1, 2)                    44        \n",
      "=================================================================\n",
      "Total params: 1,068\n",
      "Trainable params: 68\n",
      "Non-trainable params: 1,000\n",
      "_________________________________________________________________\n"
     ]
    }
   ],
   "source": [
    "student_clustered = cluster(student, n_clusters=2, verbose=True)"
   ]
  },
  {
   "cell_type": "code",
   "execution_count": 20,
   "metadata": {
    "ExecuteTime": {
     "end_time": "2020-12-11T09:49:32.973640Z",
     "start_time": "2020-12-11T09:49:13.068852Z"
    },
    "scrolled": true
   },
   "outputs": [
    {
     "name": "stderr",
     "output_type": "stream",
     "text": [
      "/tmp/tmp3b_2h6qq.py:30: SyntaxWarning: \"is not\" with a literal. Did you mean \"!=\"?\n",
      "  network_has_state = ag__.and_((lambda : (ag__.ld(network_state) is not None)), (lambda : ag__.and_((lambda : (ag__.ld(network_state) is not ())), (lambda : (ag__.ld(network_state) is not [])))))\n"
     ]
    },
    {
     "name": "stdout",
     "output_type": "stream",
     "text": [
      "Epoch 1/2\n",
      "WARNING:tensorflow:Model was constructed with shape (1, 4) for input Tensor(\"flatten_input_2:0\", shape=(1, 4), dtype=float32), but it was called on an input with incompatible shape (64, 4).\n",
      "WARNING:tensorflow:Model was constructed with shape (1, 4) for input Tensor(\"flatten_input_2:0\", shape=(1, 4), dtype=float32), but it was called on an input with incompatible shape (64, 4).\n",
      "2500/2500 [==============================] - 8s 3ms/step - loss: 2.8824 - accuracy: 0.7713\n",
      "Epoch 2/2\n",
      "2500/2500 [==============================] - 8s 3ms/step - loss: 2.8427 - accuracy: 0.7742\n"
     ]
    },
    {
     "data": {
      "text/plain": [
       "<tensorflow.python.keras.callbacks.History at 0x7efce46328b0>"
      ]
     },
     "execution_count": 20,
     "metadata": {},
     "output_type": "execute_result"
    }
   ],
   "source": [
    "distillation.KL_Distillation(student_clustered, agent._q_network, dataset, agent._as_transition, epochs = 2, verbose=1)"
   ]
  },
  {
   "cell_type": "code",
   "execution_count": 21,
   "metadata": {
    "ExecuteTime": {
     "end_time": "2020-12-11T09:49:35.354073Z",
     "start_time": "2020-12-11T09:49:35.323501Z"
    }
   },
   "outputs": [],
   "source": [
    "final_model = tfmot.clustering.keras.strip_clustering(student_clustered)"
   ]
  },
  {
   "cell_type": "code",
   "execution_count": 22,
   "metadata": {
    "ExecuteTime": {
     "end_time": "2020-12-11T09:49:36.439500Z",
     "start_time": "2020-12-11T09:49:36.424318Z"
    }
   },
   "outputs": [
    {
     "data": {
      "text/plain": [
       "2136"
      ]
     },
     "execution_count": 22,
     "metadata": {},
     "output_type": "execute_result"
    }
   ],
   "source": [
    "compression_utils.get_compressed_size(student)"
   ]
  },
  {
   "cell_type": "code",
   "execution_count": 24,
   "metadata": {
    "ExecuteTime": {
     "end_time": "2020-12-11T09:50:27.245594Z",
     "start_time": "2020-12-11T09:49:50.215925Z"
    }
   },
   "outputs": [
    {
     "name": "stdout",
     "output_type": "stream",
     "text": [
      "200.0\n",
      "102.025\n"
     ]
    }
   ],
   "source": [
    "print(compute_avg_return(eval_env,agent.policy,num_episodes=40))\n",
    "for index in range(len(agent._q_network.variables)):\n",
    "    agent._q_network.variables[index].assign(student.get_weights()[index])\n",
    "print(compute_avg_return(eval_env,agent.policy,num_episodes=40))"
   ]
  },
  {
   "cell_type": "markdown",
   "metadata": {},
   "source": [
    "## Cluster via MSE Distillation"
   ]
  },
  {
   "cell_type": "code",
   "execution_count": 25,
   "metadata": {
    "ExecuteTime": {
     "end_time": "2020-12-11T09:50:35.822894Z",
     "start_time": "2020-12-11T09:50:35.779811Z"
    }
   },
   "outputs": [
    {
     "name": "stdout",
     "output_type": "stream",
     "text": [
      "Model: \"sequential_1\"\n",
      "_________________________________________________________________\n",
      "Layer (type)                 Output Shape              Param #   \n",
      "=================================================================\n",
      "flatten (Flatten)            (1, 4)                    0         \n",
      "_________________________________________________________________\n",
      "dense (Dense)                (1, 40)                   200       \n",
      "_________________________________________________________________\n",
      "dense_1 (Dense)              (1, 20)                   820       \n",
      "_________________________________________________________________\n",
      "dense_2 (Dense)              (1, 2)                    42        \n",
      "=================================================================\n",
      "Total params: 1,062\n",
      "Trainable params: 1,062\n",
      "Non-trainable params: 0\n",
      "_________________________________________________________________\n"
     ]
    },
    {
     "data": {
      "text/plain": [
       "6086"
      ]
     },
     "execution_count": 25,
     "metadata": {},
     "output_type": "execute_result"
    }
   ],
   "source": [
    "layers = agent._q_network.layers[0].layers + agent._q_network.layers[1:]\n",
    "model = keras.Sequential(layers)\n",
    "model.build(train_env.reset().observation.shape)\n",
    "model.set_weights(original_weights)\n",
    "model.summary()\n",
    "compression_utils.get_compressed_size(model)"
   ]
  },
  {
   "cell_type": "code",
   "execution_count": 26,
   "metadata": {
    "ExecuteTime": {
     "end_time": "2020-12-11T09:50:45.441670Z",
     "start_time": "2020-12-11T09:50:45.409594Z"
    }
   },
   "outputs": [],
   "source": [
    "copied_model = keras.models.clone_model(model)\n",
    "copied_model.set_weights(model.get_weights())\n",
    "student = copied_model"
   ]
  },
  {
   "cell_type": "code",
   "execution_count": 27,
   "metadata": {
    "ExecuteTime": {
     "end_time": "2020-12-11T09:50:46.110606Z",
     "start_time": "2020-12-11T09:50:46.049258Z"
    }
   },
   "outputs": [
    {
     "name": "stdout",
     "output_type": "stream",
     "text": [
      "Model: \"sequential_1\"\n",
      "_________________________________________________________________\n",
      "Layer (type)                 Output Shape              Param #   \n",
      "=================================================================\n",
      "cluster_flatten (ClusterWeig (1, 4)                    0         \n",
      "_________________________________________________________________\n",
      "cluster_dense (ClusterWeight (1, 40)                   202       \n",
      "_________________________________________________________________\n",
      "cluster_dense_1 (ClusterWeig (1, 20)                   822       \n",
      "_________________________________________________________________\n",
      "cluster_dense_2 (ClusterWeig (1, 2)                    44        \n",
      "=================================================================\n",
      "Total params: 1,068\n",
      "Trainable params: 68\n",
      "Non-trainable params: 1,000\n",
      "_________________________________________________________________\n"
     ]
    }
   ],
   "source": [
    "student_clustered = cluster(student, n_clusters=2, verbose=True)"
   ]
  },
  {
   "cell_type": "code",
   "execution_count": 28,
   "metadata": {
    "ExecuteTime": {
     "end_time": "2020-12-11T09:51:05.233620Z",
     "start_time": "2020-12-11T09:50:49.156556Z"
    },
    "scrolled": true
   },
   "outputs": [
    {
     "name": "stdout",
     "output_type": "stream",
     "text": [
      "Epoch 1/2\n",
      "WARNING:tensorflow:Model was constructed with shape (1, 4) for input Tensor(\"flatten_input_6:0\", shape=(1, 4), dtype=float32), but it was called on an input with incompatible shape (64, 4).\n"
     ]
    },
    {
     "name": "stderr",
     "output_type": "stream",
     "text": [
      "WARNING:tensorflow:Model was constructed with shape (1, 4) for input Tensor(\"flatten_input_6:0\", shape=(1, 4), dtype=float32), but it was called on an input with incompatible shape (64, 4).\n"
     ]
    },
    {
     "name": "stdout",
     "output_type": "stream",
     "text": [
      "WARNING:tensorflow:Model was constructed with shape (1, 4) for input Tensor(\"flatten_input_6:0\", shape=(1, 4), dtype=float32), but it was called on an input with incompatible shape (64, 4).\n"
     ]
    },
    {
     "name": "stderr",
     "output_type": "stream",
     "text": [
      "WARNING:tensorflow:Model was constructed with shape (1, 4) for input Tensor(\"flatten_input_6:0\", shape=(1, 4), dtype=float32), but it was called on an input with incompatible shape (64, 4).\n"
     ]
    },
    {
     "name": "stdout",
     "output_type": "stream",
     "text": [
      "2500/2500 [==============================] - 8s 3ms/step - loss: 5860938240.0000 - accuracy: 0.7742\n",
      "Epoch 2/2\n",
      "2500/2500 [==============================] - 8s 3ms/step - loss: 5645583360.0000 - accuracy: 0.7739\n"
     ]
    },
    {
     "data": {
      "text/plain": [
       "<tensorflow.python.keras.callbacks.History at 0x7efbfc4e49d0>"
      ]
     },
     "execution_count": 28,
     "metadata": {},
     "output_type": "execute_result"
    }
   ],
   "source": [
    "distillation.MSE_Distillation(student_clustered, agent._q_network, dataset, agent._as_transition, epochs = 2, verbose=1)"
   ]
  },
  {
   "cell_type": "code",
   "execution_count": 29,
   "metadata": {
    "ExecuteTime": {
     "end_time": "2020-12-11T09:51:53.319297Z",
     "start_time": "2020-12-11T09:51:53.282888Z"
    }
   },
   "outputs": [],
   "source": [
    "final_model = tfmot.clustering.keras.strip_clustering(student_clustered)"
   ]
  },
  {
   "cell_type": "code",
   "execution_count": 30,
   "metadata": {
    "ExecuteTime": {
     "end_time": "2020-12-11T09:51:54.510697Z",
     "start_time": "2020-12-11T09:51:54.492482Z"
    }
   },
   "outputs": [
    {
     "data": {
      "text/plain": [
       "2135"
      ]
     },
     "execution_count": 30,
     "metadata": {},
     "output_type": "execute_result"
    }
   ],
   "source": [
    "compression_utils.get_compressed_size(student)"
   ]
  },
  {
   "cell_type": "code",
   "execution_count": 31,
   "metadata": {
    "ExecuteTime": {
     "end_time": "2020-12-11T09:52:13.722920Z",
     "start_time": "2020-12-11T09:51:55.116005Z"
    }
   },
   "outputs": [
    {
     "name": "stdout",
     "output_type": "stream",
     "text": [
      "200.0\n",
      "100.55\n"
     ]
    }
   ],
   "source": [
    "print(compute_avg_return(eval_env,agent.policy,num_episodes=20))\n",
    "for index in range(len(agent._q_network.variables)):\n",
    "    agent._q_network.variables[index].assign(student.get_weights()[index])\n",
    "print(compute_avg_return(eval_env,agent.policy,num_episodes=20))"
   ]
  },
  {
   "cell_type": "markdown",
   "metadata": {},
   "source": [
    "## Cluster via Online Training"
   ]
  },
  {
   "cell_type": "code",
   "execution_count": 88,
   "metadata": {
    "ExecuteTime": {
     "end_time": "2020-12-11T10:38:15.220413Z",
     "start_time": "2020-12-11T10:38:15.172904Z"
    }
   },
   "outputs": [
    {
     "name": "stdout",
     "output_type": "stream",
     "text": [
      "Model: \"sequential_5\"\n",
      "_________________________________________________________________\n",
      "Layer (type)                 Output Shape              Param #   \n",
      "=================================================================\n",
      "flatten_2 (Flatten)          (1, 4)                    0         \n",
      "_________________________________________________________________\n",
      "dense_6 (Dense)              (1, 40)                   200       \n",
      "_________________________________________________________________\n",
      "dense_7 (Dense)              (1, 20)                   820       \n",
      "_________________________________________________________________\n",
      "dense_8 (Dense)              (1, 2)                    42        \n",
      "=================================================================\n",
      "Total params: 1,062\n",
      "Trainable params: 1,062\n",
      "Non-trainable params: 0\n",
      "_________________________________________________________________\n"
     ]
    },
    {
     "data": {
      "text/plain": [
       "6077"
      ]
     },
     "execution_count": 88,
     "metadata": {},
     "output_type": "execute_result"
    }
   ],
   "source": [
    "layers = agent._q_network.layers[0].layers + agent._q_network.layers[1:]\n",
    "model = keras.Sequential(layers)\n",
    "model.build(train_env.reset().observation.shape)\n",
    "model.set_weights(original_weights)\n",
    "model.summary()\n",
    "compression_utils.get_compressed_size(model)"
   ]
  },
  {
   "cell_type": "code",
   "execution_count": 89,
   "metadata": {
    "ExecuteTime": {
     "end_time": "2020-12-11T10:38:16.503369Z",
     "start_time": "2020-12-11T10:38:16.472577Z"
    }
   },
   "outputs": [],
   "source": [
    "copied_model = keras.models.clone_model(model)\n",
    "copied_model.set_weights(model.get_weights())\n",
    "student = copied_model"
   ]
  },
  {
   "cell_type": "code",
   "execution_count": 90,
   "metadata": {
    "ExecuteTime": {
     "end_time": "2020-12-11T10:38:17.491047Z",
     "start_time": "2020-12-11T10:38:17.431016Z"
    }
   },
   "outputs": [
    {
     "name": "stdout",
     "output_type": "stream",
     "text": [
      "Model: \"sequential_5\"\n",
      "_________________________________________________________________\n",
      "Layer (type)                 Output Shape              Param #   \n",
      "=================================================================\n",
      "cluster_flatten_2 (ClusterWe (1, 4)                    0         \n",
      "_________________________________________________________________\n",
      "cluster_dense_6 (ClusterWeig (1, 40)                   202       \n",
      "_________________________________________________________________\n",
      "cluster_dense_7 (ClusterWeig (1, 20)                   822       \n",
      "_________________________________________________________________\n",
      "cluster_dense_8 (ClusterWeig (1, 2)                    44        \n",
      "=================================================================\n",
      "Total params: 1,068\n",
      "Trainable params: 68\n",
      "Non-trainable params: 1,000\n",
      "_________________________________________________________________\n"
     ]
    }
   ],
   "source": [
    "student_clustered = cluster(student, n_clusters=2, verbose=True)"
   ]
  },
  {
   "cell_type": "code",
   "execution_count": 91,
   "metadata": {
    "ExecuteTime": {
     "end_time": "2020-12-11T10:38:19.163301Z",
     "start_time": "2020-12-11T10:38:19.095906Z"
    }
   },
   "outputs": [],
   "source": [
    "from tfagents_wrappers import QNetWrapper\n",
    "target_model = tf.keras.models.clone_model(student_clustered)\n",
    "target_model.set_weights(student_clustered.get_weights())\n",
    "\n",
    "clustered_qnet = QNetWrapper(student_clustered,\n",
    "                                  train_env.observation_spec(),\n",
    "                                  train_env.action_spec())\n",
    "\n",
    "target_qnet = QNetWrapper(target_model,\n",
    "                                  train_env.observation_spec(),\n",
    "                                  train_env.action_spec())"
   ]
  },
  {
   "cell_type": "code",
   "execution_count": 92,
   "metadata": {
    "ExecuteTime": {
     "end_time": "2020-12-11T10:38:20.967120Z",
     "start_time": "2020-12-11T10:38:20.944288Z"
    }
   },
   "outputs": [],
   "source": [
    "train_step_counter = tf.Variable(0)\n",
    "optimizer = tf.compat.v1.train.AdamOptimizer(learning_rate=learning_rate)\n",
    "\n",
    "clustered_agent = dqn_agent.DqnAgent(\n",
    "    train_env.time_step_spec(),\n",
    "    train_env.action_spec(),\n",
    "    q_network=clustered_qnet,\n",
    "    target_q_network=target_qnet,\n",
    "    target_update_period=2000,\n",
    "    optimizer=optimizer,\n",
    "    td_errors_loss_fn=common.element_wise_squared_loss,\n",
    "    train_step_counter=train_step_counter)\n",
    "\n",
    "clustered_agent.initialize()"
   ]
  },
  {
   "cell_type": "code",
   "execution_count": 93,
   "metadata": {
    "ExecuteTime": {
     "end_time": "2020-12-11T10:38:32.066996Z",
     "start_time": "2020-12-11T10:38:22.423072Z"
    }
   },
   "outputs": [
    {
     "data": {
      "text/plain": [
       "107.5"
      ]
     },
     "execution_count": 93,
     "metadata": {},
     "output_type": "execute_result"
    }
   ],
   "source": [
    "compute_avg_return(eval_env, clustered_agent.policy, 20)"
   ]
  },
  {
   "cell_type": "code",
   "execution_count": 94,
   "metadata": {
    "ExecuteTime": {
     "end_time": "2020-12-11T10:40:36.641347Z",
     "start_time": "2020-12-11T10:38:46.987405Z"
    },
    "scrolled": true
   },
   "outputs": [
    {
     "name": "stdout",
     "output_type": "stream",
     "text": [
      "step = 500: Average Return = 107.05000305175781\n",
      "step = 1000: Average Return = 132.85000610351562\n",
      "step = 1500: Average Return = 157.85000610351562\n",
      "step = 2000: Average Return = 176.60000610351562\n"
     ]
    },
    {
     "data": {
      "text/plain": [
       "176.6"
      ]
     },
     "execution_count": 94,
     "metadata": {},
     "output_type": "execute_result"
    }
   ],
   "source": [
    "training_scripts3.offline_training(clustered_agent, eval_env, iterator)"
   ]
  },
  {
   "cell_type": "code",
   "execution_count": 82,
   "metadata": {
    "ExecuteTime": {
     "end_time": "2020-12-11T10:35:33.719133Z",
     "start_time": "2020-12-11T10:33:29.130285Z"
    }
   },
   "outputs": [
    {
     "name": "stdout",
     "output_type": "stream",
     "text": [
      "step = 500: Average Return = 110.5999984741211\n",
      "step = 1000: Average Return = 157.9499969482422\n",
      "step = 1500: Average Return = 159.10000610351562\n",
      "step = 2000: Average Return = 147.89999389648438\n"
     ]
    },
    {
     "data": {
      "text/plain": [
       "147.9"
      ]
     },
     "execution_count": 82,
     "metadata": {},
     "output_type": "execute_result"
    }
   ],
   "source": [
    "training_scripts.online_training(clustered_agent, train_env, eval_env, replay_buffer, iterator)"
   ]
  },
  {
   "cell_type": "code",
   "execution_count": 96,
   "metadata": {
    "ExecuteTime": {
     "end_time": "2020-12-11T10:40:43.479746Z",
     "start_time": "2020-12-11T10:40:43.449023Z"
    }
   },
   "outputs": [],
   "source": [
    "student = tfmot.clustering.keras.strip_clustering(clustered_agent._q_network.network)"
   ]
  },
  {
   "cell_type": "code",
   "execution_count": 97,
   "metadata": {
    "ExecuteTime": {
     "end_time": "2020-12-11T10:41:05.714750Z",
     "start_time": "2020-12-11T10:40:45.136658Z"
    }
   },
   "outputs": [
    {
     "name": "stdout",
     "output_type": "stream",
     "text": [
      "200.0\n",
      "134.6\n"
     ]
    }
   ],
   "source": [
    "print(compute_avg_return(eval_env,agent.policy,num_episodes=20))\n",
    "for index in range(len(agent._q_network.variables)):\n",
    "    agent._q_network.variables[index].assign(student.get_weights()[index])\n",
    "print(compute_avg_return(eval_env,agent.policy,num_episodes=20))"
   ]
  },
  {
   "cell_type": "code",
   "execution_count": 98,
   "metadata": {
    "ExecuteTime": {
     "end_time": "2020-12-11T10:41:05.726153Z",
     "start_time": "2020-12-11T10:41:05.716273Z"
    }
   },
   "outputs": [
    {
     "data": {
      "text/plain": [
       "2138"
      ]
     },
     "execution_count": 98,
     "metadata": {},
     "output_type": "execute_result"
    }
   ],
   "source": [
    "compression_utils.get_compressed_size(student)"
   ]
  },
  {
   "cell_type": "markdown",
   "metadata": {},
   "source": [
    "## Try Sequential Model with Using layers of `_q_network`\n",
    "\n",
    "Create a model from layers, then create a clone of this. Do the learning on that and update the variables of agent manually."
   ]
  },
  {
   "cell_type": "markdown",
   "metadata": {},
   "source": [
    "### Create Sequential Model"
   ]
  },
  {
   "cell_type": "code",
   "execution_count": 32,
   "metadata": {
    "ExecuteTime": {
     "end_time": "2020-11-20T11:38:55.595925Z",
     "start_time": "2020-11-20T11:38:55.586215Z"
    }
   },
   "outputs": [],
   "source": [
    "for index in range(len(agent._q_network.variables)):\n",
    "    agent._q_network.variables[index].assign(original_weights[index])"
   ]
  },
  {
   "cell_type": "markdown",
   "metadata": {},
   "source": [
    "### Clone Model"
   ]
  },
  {
   "cell_type": "code",
   "execution_count": 347,
   "metadata": {
    "ExecuteTime": {
     "end_time": "2020-11-13T19:42:38.016077Z",
     "start_time": "2020-11-13T19:42:38.006451Z"
    }
   },
   "outputs": [
    {
     "name": "stdout",
     "output_type": "stream",
     "text": [
      "Saving clustered model to:  /tmp/tmppplq53lo.h5\n"
     ]
    }
   ],
   "source": [
    "_, clustered_keras_file = tempfile.mkstemp('.h5')\n",
    "print('Saving clustered model to: ', clustered_keras_file)\n",
    "tf.keras.models.save_model(model, clustered_keras_file, \n",
    "                           include_optimizer=False)"
   ]
  },
  {
   "cell_type": "code",
   "execution_count": 348,
   "metadata": {
    "ExecuteTime": {
     "end_time": "2020-11-13T19:42:38.313037Z",
     "start_time": "2020-11-13T19:42:38.017443Z"
    }
   },
   "outputs": [
    {
     "name": "stdout",
     "output_type": "stream",
     "text": [
      "INFO:tensorflow:Assets written to: /tmp/tmpd1yc1zrh/assets\n"
     ]
    },
    {
     "name": "stderr",
     "output_type": "stream",
     "text": [
      "INFO:tensorflow:Assets written to: /tmp/tmpd1yc1zrh/assets\n"
     ]
    },
    {
     "name": "stdout",
     "output_type": "stream",
     "text": [
      "Saved clustered TFLite model to: /tmp/clustered_mnist.tflite\n"
     ]
    }
   ],
   "source": [
    "clustered_tflite_file = '/tmp/clustered_mnist.tflite'\n"
   ]
  },
  {
   "cell_type": "code",
   "execution_count": 349,
   "metadata": {
    "ExecuteTime": {
     "end_time": "2020-11-13T19:42:38.600513Z",
     "start_time": "2020-11-13T19:42:38.315464Z"
    }
   },
   "outputs": [
    {
     "name": "stdout",
     "output_type": "stream",
     "text": [
      "INFO:tensorflow:Assets written to: /tmp/tmpzzzqufra/assets\n"
     ]
    },
    {
     "name": "stderr",
     "output_type": "stream",
     "text": [
      "INFO:tensorflow:Assets written to: /tmp/tmpzzzqufra/assets\n"
     ]
    },
    {
     "name": "stdout",
     "output_type": "stream",
     "text": [
      "Saved clustered TFLite model to: /tmp/clustered_mnist_default.tflite\n"
     ]
    }
   ],
   "source": [
    "clustered_tflite_default_file = '/tmp/clustered_mnist_default.tflite'\n",
    "converter = tf.lite.TFLiteConverter.from_keras_model(model)\n",
    "converter.optimizations = [tf.lite.Optimize.DEFAULT]\n",
    "tflite_clustered_model = converter.convert()\n",
    "with open(clustered_tflite_default_file, 'wb') as f:\n",
    "  f.write(tflite_clustered_model)\n",
    "print('Saved clustered TFLite model to:', clustered_tflite_default_file)"
   ]
  },
  {
   "cell_type": "code",
   "execution_count": 351,
   "metadata": {
    "ExecuteTime": {
     "end_time": "2020-11-13T19:42:38.619533Z",
     "start_time": "2020-11-13T19:42:38.606940Z"
    }
   },
   "outputs": [
    {
     "name": "stdout",
     "output_type": "stream",
     "text": [
      "Size of gzipped baseline Keras model: 4319.00 bytes\n",
      "Size of gzipped clustered Keras model: 2176.00 bytes\n",
      "Size of gzipped clustered TFlite model: 1314.00 bytes\n",
      "Size of gzipped clustered TFlite model: 1334.00 bytes\n"
     ]
    }
   ],
   "source": [
    "print(\"Size of gzipped baseline Keras model: %.2f bytes\" % (get_gzipped_model_size(keras_file)))\n",
    "print(\"Size of gzipped clustered Keras model: %.2f bytes\" % (get_gzipped_model_size(clustered_keras_file)))\n",
    "print(\"Size of gzipped clustered TFlite model: %.2f bytes\" % (get_gzipped_model_size(clustered_tflite_file)))\n",
    "print(\"Size of gzipped clustered TFlite model: %.2f bytes\" % (get_gzipped_model_size(clustered_tflite_default_file)))"
   ]
  },
  {
   "cell_type": "markdown",
   "metadata": {},
   "source": [
    "# Test via 3 different distillation techniques"
   ]
  },
  {
   "cell_type": "markdown",
   "metadata": {},
   "source": [
    "## MSE Distillation"
   ]
  },
  {
   "cell_type": "markdown",
   "metadata": {},
   "source": [
    "### Create Sequential Model"
   ]
  },
  {
   "cell_type": "code",
   "execution_count": 352,
   "metadata": {
    "ExecuteTime": {
     "end_time": "2020-11-13T19:43:54.717638Z",
     "start_time": "2020-11-13T19:43:48.684488Z"
    }
   },
   "outputs": [
    {
     "name": "stdout",
     "output_type": "stream",
     "text": [
      "Model: \"sequential_17\"\n",
      "_________________________________________________________________\n",
      "Layer (type)                 Output Shape              Param #   \n",
      "=================================================================\n",
      "flatten (Flatten)            (1, 4)                    0         \n",
      "_________________________________________________________________\n",
      "dense (Dense)                (1, 100)                  500       \n",
      "_________________________________________________________________\n",
      "dense_1 (Dense)              (1, 2)                    202       \n",
      "=================================================================\n",
      "Total params: 702\n",
      "Trainable params: 702\n",
      "Non-trainable params: 0\n",
      "_________________________________________________________________\n"
     ]
    },
    {
     "data": {
      "text/plain": [
       "200.0"
      ]
     },
     "execution_count": 352,
     "metadata": {},
     "output_type": "execute_result"
    }
   ],
   "source": [
    "for index in range(len(agent._q_network.variables)):\n",
    "    agent._q_network.variables[index].assign(original_weights[index])\n",
    "\n",
    "layers = agent._q_network.layers[0].layers + agent._q_network.layers[1:]\n",
    "\n",
    "model = keras.Sequential(layers)\n",
    "\n",
    "model.build(train_env.reset().observation.shape)\n",
    "model.summary()\n",
    "\n",
    "assert sum([np.sum(layer) for layer in original_weights]) == sum([np.sum(layer) for layer in agent._q_network.get_weights()])\n",
    "\n",
    "copied_model = keras.models.clone_model(model)\n",
    "copied_model.set_weights(model.get_weights())\n",
    "legacy_model = model\n",
    "model = copied_model\n",
    "\n",
    "compute_avg_return(eval_env,agent.policy)"
   ]
  },
  {
   "cell_type": "code",
   "execution_count": 353,
   "metadata": {
    "ExecuteTime": {
     "end_time": "2020-11-13T19:43:54.729274Z",
     "start_time": "2020-11-13T19:43:54.720347Z"
    }
   },
   "outputs": [
    {
     "name": "stdout",
     "output_type": "stream",
     "text": [
      "Saving clustered model to:  /tmp/tmpvb_yxkdh.h5\n"
     ]
    }
   ],
   "source": [
    "_, keras_file = tempfile.mkstemp('.h5')\n",
    "print('Saving clustered model to: ', keras_file)\n",
    "tf.keras.models.save_model(model, keras_file, \n",
    "                           include_optimizer=False)"
   ]
  },
  {
   "cell_type": "markdown",
   "metadata": {},
   "source": [
    "### Add Softmax with Temperature to the model"
   ]
  },
  {
   "cell_type": "code",
   "execution_count": 354,
   "metadata": {
    "ExecuteTime": {
     "end_time": "2020-11-13T19:43:54.735976Z",
     "start_time": "2020-11-13T19:43:54.731629Z"
    }
   },
   "outputs": [],
   "source": [
    "# class Temperatured_softmax(keras.layers.Layer):\n",
    "#     def __init__(self, temperature=1,**kwargs):\n",
    "#         super(Temperatured_softmax, self).__init__(**kwargs)\n",
    "#         self.softmax = keras.layers.Softmax()\n",
    "#         self.temperature = temperature\n",
    "\n",
    "#     def call(self, inputs,training=None):\n",
    "#         if training:\n",
    "#             return self.softmax(tf.divide(inputs, self.temperature))\n",
    "#         else:\n",
    "#             return inputs\n",
    "#     def get_config(self):\n",
    "#         config = super(Temperatured_softmax, self).get_config()\n",
    "#         config.update({\"temperature\": self.temperature})\n",
    "#         return config\n",
    "    \n",
    "# model.add(Temperatured_softmax(temperature=1))\n"
   ]
  },
  {
   "cell_type": "code",
   "execution_count": 355,
   "metadata": {
    "ExecuteTime": {
     "end_time": "2020-11-13T19:47:57.379743Z",
     "start_time": "2020-11-13T19:43:54.738013Z"
    }
   },
   "outputs": [
    {
     "name": "stdout",
     "output_type": "stream",
     "text": [
      "Model: \"sequential_17\"\n",
      "_________________________________________________________________\n",
      "Layer (type)                 Output Shape              Param #   \n",
      "=================================================================\n",
      "cluster_flatten (ClusterWeig (1, 4)                    0         \n",
      "_________________________________________________________________\n",
      "cluster_dense (ClusterWeight (1, 100)                  504       \n",
      "_________________________________________________________________\n",
      "cluster_dense_1 (ClusterWeig (1, 2)                    206       \n",
      "=================================================================\n",
      "Total params: 710\n",
      "Trainable params: 110\n",
      "Non-trainable params: 600\n",
      "_________________________________________________________________\n",
      "WARNING:tensorflow:Model was constructed with shape (1, 4) for input Tensor(\"flatten_input_69:0\", shape=(1, 4), dtype=float32), but it was called on an input with incompatible shape (64, 4).\n"
     ]
    },
    {
     "name": "stderr",
     "output_type": "stream",
     "text": [
      "WARNING:tensorflow:Model was constructed with shape (1, 4) for input Tensor(\"flatten_input_69:0\", shape=(1, 4), dtype=float32), but it was called on an input with incompatible shape (64, 4).\n"
     ]
    },
    {
     "name": "stdout",
     "output_type": "stream",
     "text": [
      "WARNING:tensorflow:Model was constructed with shape (1, 4) for input Tensor(\"flatten_input_69:0\", shape=(1, 4), dtype=float32), but it was called on an input with incompatible shape (64, 4).\n"
     ]
    },
    {
     "name": "stderr",
     "output_type": "stream",
     "text": [
      "WARNING:tensorflow:Model was constructed with shape (1, 4) for input Tensor(\"flatten_input_69:0\", shape=(1, 4), dtype=float32), but it was called on an input with incompatible shape (64, 4).\n"
     ]
    },
    {
     "data": {
      "text/plain": [
       "[<matplotlib.lines.Line2D at 0x7f4fa6d12460>]"
      ]
     },
     "execution_count": 355,
     "metadata": {},
     "output_type": "execute_result"
    },
    {
     "data": {
      "image/png": "[encoded data removed]",
      "text/plain": [
       "<Figure size 432x288 with 1 Axes>"
      ]
     },
     "metadata": {
      "needs_background": "light"
     },
     "output_type": "display_data"
    }
   ],
   "source": [
    "import tensorflow_model_optimization as tfmot\n",
    "\n",
    "softmaxed_model = model\n",
    "cluster_weights = tfmot.clustering.keras.cluster_weights\n",
    "CentroidInitialization = tfmot.clustering.keras.CentroidInitialization\n",
    "\n",
    "clustering_params = {\n",
    "  'number_of_clusters': 4,\n",
    "  'cluster_centroids_init': CentroidInitialization.LINEAR\n",
    "}\n",
    "\n",
    "# # Cluster a whole model\n",
    "# clustered_model = cluster_weights(model, **clustering_params)\n",
    "def skip_softmax(layer):\n",
    "    if 'temperature' in layer._name:\n",
    "        return layer\n",
    "    else:\n",
    "        return cluster_weights(layer, **clustering_params)\n",
    "\n",
    "# Use `tf.keras.models.clone_model` to apply `apply_clustering_to_dense` \n",
    "# to the layers of the model.\n",
    "clustered_model = tf.keras.models.clone_model(\n",
    "    softmaxed_model,\n",
    "    clone_function=skip_softmax,\n",
    ")\n",
    "# Use smaller learning rate for fine-tuning clustered model\n",
    "opt = tf.keras.optimizers.Adam(learning_rate=1e-5)\n",
    "\n",
    "clustered_model.compile(\n",
    "  loss=tf.keras.losses.MeanSquaredError(),\n",
    "  optimizer=opt,\n",
    "  metrics=['accuracy'])\n",
    "\n",
    "clustered_model.summary()\n",
    "hist = clustered_model.fit(q_dataset, #batch_size=batch_size,\n",
    "                  epochs=50,\n",
    "                      steps_per_epoch = 80000//32,\n",
    "                   verbose = 0)\n",
    "plt.plot(hist.history['loss'])"
   ]
  },
  {
   "cell_type": "code",
   "execution_count": 356,
   "metadata": {
    "ExecuteTime": {
     "end_time": "2020-11-13T19:47:57.398620Z",
     "start_time": "2020-11-13T19:47:57.381013Z"
    }
   },
   "outputs": [],
   "source": [
    "final_model = tfmot.clustering.keras.strip_clustering(clustered_model)"
   ]
  },
  {
   "cell_type": "code",
   "execution_count": 358,
   "metadata": {
    "ExecuteTime": {
     "end_time": "2020-11-13T20:02:05.917420Z",
     "start_time": "2020-11-13T20:02:05.889996Z"
    }
   },
   "outputs": [
    {
     "name": "stdout",
     "output_type": "stream",
     "text": [
      "(4, 100)\n",
      "4\n",
      "(100,)\n",
      "100\n",
      "(100, 2)\n",
      "4\n",
      "(2,)\n",
      "2\n"
     ]
    }
   ],
   "source": [
    "for i in range(len(agent._q_network.get_weights())):\n",
    "    print(agent._q_network.get_weights()[i].shape)\n",
    "    a = set()\n",
    "    for elem in agent._q_network.get_weights()[i].flatten():\n",
    "        a.add(elem)\n",
    "    print(len(a))"
   ]
  },
  {
   "cell_type": "code",
   "execution_count": 357,
   "metadata": {
    "ExecuteTime": {
     "end_time": "2020-11-13T19:48:07.258178Z",
     "start_time": "2020-11-13T19:47:57.400318Z"
    }
   },
   "outputs": [
    {
     "name": "stdout",
     "output_type": "stream",
     "text": [
      "200.0\n",
      "121.1\n"
     ]
    }
   ],
   "source": [
    "print(compute_avg_return(eval_env,agent.policy,num_episodes=10))\n",
    "for index in range(len(agent._q_network.variables)):\n",
    "    agent._q_network.variables[index].assign(model.get_weights()[index])\n",
    "print(compute_avg_return(eval_env,agent.policy,num_episodes=10))"
   ]
  },
  {
   "cell_type": "code",
   "execution_count": 361,
   "metadata": {
    "ExecuteTime": {
     "end_time": "2020-11-13T20:03:03.312661Z",
     "start_time": "2020-11-13T20:03:02.686471Z"
    },
    "scrolled": true
   },
   "outputs": [
    {
     "name": "stdout",
     "output_type": "stream",
     "text": [
      "True\n",
      "True\n",
      "375.19369769096375\n",
      "375.19369769096375\n",
      "375.19369769096375\n",
      "375.19369769096375\n",
      "Saving clustered model to:  /tmp/tmp336x1nfi.h5\n",
      "INFO:tensorflow:Assets written to: /tmp/tmpqr_yn19h/assets\n"
     ]
    },
    {
     "name": "stderr",
     "output_type": "stream",
     "text": [
      "INFO:tensorflow:Assets written to: /tmp/tmpqr_yn19h/assets\n"
     ]
    },
    {
     "name": "stdout",
     "output_type": "stream",
     "text": [
      "Saved clustered TFLite model to: /tmp/clustered_mnist.tflite\n",
      "INFO:tensorflow:Assets written to: /tmp/tmpiprj_qm1/assets\n"
     ]
    },
    {
     "name": "stderr",
     "output_type": "stream",
     "text": [
      "INFO:tensorflow:Assets written to: /tmp/tmpiprj_qm1/assets\n"
     ]
    },
    {
     "name": "stdout",
     "output_type": "stream",
     "text": [
      "Saved clustered TFLite model to: /tmp/clustered_mnist_default.tflite\n",
      "Size of gzipped baseline Keras model: 4320.00 bytes\n",
      "Size of gzipped clustered Keras model: 2187.00 bytes\n",
      "Size of gzipped clustered TFlite model: 1329.00 bytes\n",
      "Size of gzipped clustered TFlite model: 1348.00 bytes\n"
     ]
    }
   ],
   "source": [
    "print(agent.collect_policy._greedy_policy._wrapped_policy._q_network is agent.policy._wrapped_policy._q_network)\n",
    "print(agent.collect_policy._greedy_policy._wrapped_policy._q_network is agent._q_network)\n",
    "print(sum([np.sum(layer) for layer in agent.collect_policy._greedy_policy._wrapped_policy._q_network.get_weights()]))\n",
    "print(sum([np.sum(layer) for layer in agent.policy._wrapped_policy._q_network.get_weights()]))\n",
    "print(sum([np.sum(layer) for layer in model.get_weights()]))\n",
    "print(sum([np.sum(layer) for layer in final_model.get_weights()]))\n",
    "\n",
    "\n",
    "_, clustered_keras_file = tempfile.mkstemp('.h5')\n",
    "print('Saving clustered model to: ', clustered_keras_file)\n",
    "tf.keras.models.save_model(model, clustered_keras_file, \n",
    "                           include_optimizer=False)\n",
    "\n",
    "clustered_tflite_file = '/tmp/clustered_mnist.tflite'\n",
    "converter = tf.lite.TFLiteConverter.from_keras_model(model)\n",
    "tflite_clustered_model = converter.convert()\n",
    "with open(clustered_tflite_file, 'wb') as f:\n",
    "  f.write(tflite_clustered_model)\n",
    "print('Saved clustered TFLite model to:', clustered_tflite_file)\n",
    "\n",
    "clustered_tflite_default_file = '/tmp/clustered_mnist_default.tflite'\n",
    "converter = tf.lite.TFLiteConverter.from_keras_model(model)\n",
    "converter.optimizations = [tf.lite.Optimize.DEFAULT]\n",
    "tflite_clustered_model = converter.convert()\n",
    "with open(clustered_tflite_default_file, 'wb') as f:\n",
    "  f.write(tflite_clustered_model)\n",
    "print('Saved clustered TFLite model to:', clustered_tflite_default_file)\n",
    "\n",
    "def get_gzipped_model_size(file):\n",
    "  # It returns the size of the gzipped model in bytes.\n",
    "  import os\n",
    "  import zipfile\n",
    "\n",
    "  _, zipped_file = tempfile.mkstemp('.zip')\n",
    "  with zipfile.ZipFile(zipped_file, 'w', compression=zipfile.ZIP_DEFLATED) as f:\n",
    "    f.write(file)\n",
    "\n",
    "  return os.path.getsize(zipped_file)\n",
    "\n",
    "print(\"Size of gzipped baseline Keras model: %.2f bytes\" % (get_gzipped_model_size(keras_file)))\n",
    "print(\"Size of gzipped clustered Keras model: %.2f bytes\" % (get_gzipped_model_size(clustered_keras_file)))\n",
    "print(\"Size of gzipped clustered TFlite model: %.2f bytes\" % (get_gzipped_model_size(clustered_tflite_file)))\n",
    "print(\"Size of gzipped clustered TFlite model: %.2f bytes\" % (get_gzipped_model_size(clustered_tflite_default_file)))"
   ]
  }
 ],
 "metadata": {
  "colab": {
   "collapsed_sections": [],
   "name": "DQN Tutorial.ipynb",
   "private_outputs": true,
   "provenance": [],
   "toc_visible": true
  },
  "kernelspec": {
   "display_name": "Python 3",
   "language": "python",
   "name": "python3"
  },
  "language_info": {
   "codemirror_mode": {
    "name": "ipython",
    "version": 3
   },
   "file_extension": ".py",
   "mimetype": "text/x-python",
   "name": "python",
   "nbconvert_exporter": "python",
   "pygments_lexer": "ipython3",
   "version": "3.8.6"
  },
  "latex_envs": {
   "LaTeX_envs_menu_present": true,
   "autoclose": true,
   "autocomplete": false,
   "bibliofile": "biblio.bib",
   "cite_by": "apalike",
   "current_citInitial": 1,
   "eqLabelWithNumbers": true,
   "eqNumInitial": 1,
   "hotkeys": {
    "equation": "Ctrl-E",
    "itemize": "Ctrl-I"
   },
   "labels_anchors": false,
   "latex_user_defs": false,
   "report_style_numbering": false,
   "user_envs_cfg": false
  },
  "pycharm": {
   "stem_cell": {
    "cell_type": "raw",
    "metadata": {
     "collapsed": false
    },
    "source": []
   }
  },
  "toc": {
   "base_numbering": 1,
   "nav_menu": {},
   "number_sections": true,
   "sideBar": true,
   "skip_h1_title": false,
   "title_cell": "Table of Contents",
   "title_sidebar": "Contents",
   "toc_cell": false,
   "toc_position": {
    "height": "calc(100% - 180px)",
    "left": "10px",
    "top": "150px",
    "width": "240px"
   },
   "toc_section_display": true,
   "toc_window_display": true
  }
 },
 "nbformat": 4,
 "nbformat_minor": 1
}
